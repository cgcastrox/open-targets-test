{
  "nbformat": 4,
  "nbformat_minor": 0,
  "metadata": {
    "colab": {
      "provenance": []
    },
    "kernelspec": {
      "name": "python3",
      "display_name": "Python 3"
    },
    "language_info": {
      "name": "python"
    }
  },
  "cells": [
    {
      "cell_type": "markdown",
      "source": [
        "**Open Targets\n",
        "Software Developer Technical Test**\n",
        "\n",
        "This is the solution for the technical test. The solution is composed by two parts. The following part is to download the evidence and target files to our file system through FTP.\n",
        "\n",
        "*First Part*"
      ],
      "metadata": {
        "id": "QqcrKSv-SLgs"
      }
    },
    {
      "cell_type": "code",
      "source": [
        "import fnmatch\n",
        "from ftplib import FTP\n"
      ],
      "metadata": {
        "id": "mRYvJI8CchgS"
      },
      "execution_count": 2,
      "outputs": []
    },
    {
      "cell_type": "markdown",
      "source": [
        "Let's declare the remote directory for the FTP server"
      ],
      "metadata": {
        "id": "NW7zlHm9Sn9G"
      }
    },
    {
      "cell_type": "code",
      "execution_count": 106,
      "metadata": {
        "id": "QGRR3n7ScZKq"
      },
      "outputs": [],
      "source": [
        "dir='/pub/databases/opentargets/platform/21.11/output/etl/json/evidence/sourceId=eva/'"
      ]
    },
    {
      "cell_type": "markdown",
      "source": [
        "Create the connection with the ftop.ebi.ac.uk server and create the login object"
      ],
      "metadata": {
        "id": "EmL9rzjeS5UU"
      }
    },
    {
      "cell_type": "code",
      "source": [
        "ftp = FTP('ftp.ebi.ac.uk')\n",
        "ftp.login()\n",
        "#change directory on FTP server.\n",
        "ftp.cwd(dir)"
      ],
      "metadata": {
        "colab": {
          "base_uri": "https://localhost:8080/",
          "height": 35
        },
        "id": "C0kdozE6clPe",
        "outputId": "c642850f-9ef6-4c2d-d802-36fecee964fc"
      },
      "execution_count": 3,
      "outputs": [
        {
          "output_type": "execute_result",
          "data": {
            "text/plain": [
              "'250 Directory successfully changed.'"
            ],
            "application/vnd.google.colaboratory.intrinsic+json": {
              "type": "string"
            }
          },
          "metadata": {},
          "execution_count": 3
        }
      ]
    },
    {
      "cell_type": "markdown",
      "source": [
        "It's needed to create an empty directory in our file system to allocate the evidence files from the FTP server"
      ],
      "metadata": {
        "id": "sqe_TXV6TE5o"
      }
    },
    {
      "cell_type": "code",
      "source": [
        "mkdir evidence_files"
      ],
      "metadata": {
        "id": "yP8Wy4n6cuoB"
      },
      "execution_count": 4,
      "outputs": []
    },
    {
      "cell_type": "markdown",
      "source": [
        "We should define a function to get and download the files from the FTP server using the login object. The purpose of the following function is to download the files in a given directory"
      ],
      "metadata": {
        "id": "w03xDGhjTR30"
      }
    },
    {
      "cell_type": "code",
      "source": [
        "def get_and_download_files(directory):\n",
        "  # Get all files\n",
        "  files = ftp.nlst()\n",
        "\n",
        "  # Download files\n",
        "  for file in files:\n",
        "      if fnmatch.fnmatch(file, '*.json'):   #To download specific files.\n",
        "          try:\n",
        "              ftp.retrbinary(\"RETR \" + file ,open(directory + file, 'wb').write)\n",
        "          except EOFError:    # To avoid EOF errors.\n",
        "              pass\n"
      ],
      "metadata": {
        "id": "6HH9mDXNcnUo"
      },
      "execution_count": 5,
      "outputs": []
    },
    {
      "cell_type": "markdown",
      "source": [
        "We need to declare the evidence files folder "
      ],
      "metadata": {
        "id": "ZvoR44NnTlCL"
      }
    },
    {
      "cell_type": "code",
      "source": [
        "local_evidence_folder = \"/content/evidence_files/\""
      ],
      "metadata": {
        "id": "FHGwNwZ6hZPO"
      },
      "execution_count": 6,
      "outputs": []
    },
    {
      "cell_type": "markdown",
      "source": [
        "We proceed to call the function previously declared and download the files"
      ],
      "metadata": {
        "id": "aEY8eAhzTzG7"
      }
    },
    {
      "cell_type": "code",
      "source": [
        "get_and_download_files(local_evidence_folder)"
      ],
      "metadata": {
        "id": "X-Ag6KT8hpdo"
      },
      "execution_count": 7,
      "outputs": []
    },
    {
      "cell_type": "markdown",
      "source": [
        "We proceed to create the target files folder in our file system"
      ],
      "metadata": {
        "id": "QY25bqqtT4_c"
      }
    },
    {
      "cell_type": "code",
      "source": [
        "mkdir target_files"
      ],
      "metadata": {
        "id": "qW285pm0d_W0"
      },
      "execution_count": 8,
      "outputs": []
    },
    {
      "cell_type": "code",
      "source": [
        "dir_targets='/pub/databases/opentargets/platform/21.11/output/etl/json/targets/'"
      ],
      "metadata": {
        "id": "iPUeR_AeeIGL"
      },
      "execution_count": 9,
      "outputs": []
    },
    {
      "cell_type": "code",
      "source": [
        "# change directory to target folder\n",
        "ftp.cwd(dir_targets)"
      ],
      "metadata": {
        "colab": {
          "base_uri": "https://localhost:8080/",
          "height": 35
        },
        "id": "_k5mHYVneS1i",
        "outputId": "fb9229ae-61d1-4b78-b1c2-3a9a285cf3a0"
      },
      "execution_count": 10,
      "outputs": [
        {
          "output_type": "execute_result",
          "data": {
            "text/plain": [
              "'250 Directory successfully changed.'"
            ],
            "application/vnd.google.colaboratory.intrinsic+json": {
              "type": "string"
            }
          },
          "metadata": {},
          "execution_count": 10
        }
      ]
    },
    {
      "cell_type": "code",
      "source": [
        "local_target_folder = \"/content/target_files/\""
      ],
      "metadata": {
        "id": "RSocuIXDi7WJ"
      },
      "execution_count": 11,
      "outputs": []
    },
    {
      "cell_type": "markdown",
      "source": [
        "Now, we should proceed to download the target files in our new directory"
      ],
      "metadata": {
        "id": "peRfoow8UDGj"
      }
    },
    {
      "cell_type": "code",
      "source": [
        "get_and_download_files(local_target_folder)"
      ],
      "metadata": {
        "id": "Fk0hPhcqjBoG"
      },
      "execution_count": 12,
      "outputs": []
    },
    {
      "cell_type": "code",
      "source": [
        "# close ftp connection\n",
        "ftp.close()"
      ],
      "metadata": {
        "id": "196fs5__egMC"
      },
      "execution_count": 13,
      "outputs": []
    },
    {
      "cell_type": "markdown",
      "source": [
        "***Second part***\n",
        "\n",
        "In this part, we will proceed to make use of PySpark to process the downloaded files. First, we declare some relevant libraries to get the names of each file"
      ],
      "metadata": {
        "id": "_LKM3cW_UixJ"
      }
    },
    {
      "cell_type": "code",
      "source": [
        "import glob, os, json\n",
        "import sys\n",
        "evidence_json_folder = 'evidence_files/'\n",
        "target_json_folder = 'target_files/'\n",
        "json_pattern = os.path.join(evidence_json_folder, '*.json')\n",
        "file_list = glob.glob(json_pattern)\n",
        "json_pattern_target = os.path.join(target_json_folder, '*.json')\n",
        "file_list_target = glob.glob(json_pattern_target)\n"
      ],
      "metadata": {
        "id": "WLj9HVHQqFfs"
      },
      "execution_count": 30,
      "outputs": []
    },
    {
      "cell_type": "markdown",
      "source": [
        "We need to download pyspark in our local environment so that we install it by using pip. Please check https://spark.apache.org/docs/latest/api/python/user_guide/python_packaging.html for the documentation of PySpark Installation "
      ],
      "metadata": {
        "id": "IlcrRSmQVIXN"
      }
    },
    {
      "cell_type": "code",
      "source": [
        "pip install pyspark"
      ],
      "metadata": {
        "colab": {
          "base_uri": "https://localhost:8080/"
        },
        "id": "nQbKVRqgeXms",
        "outputId": "75fa2869-2857-4244-9e0d-2fc32c3a0872"
      },
      "execution_count": 15,
      "outputs": [
        {
          "output_type": "stream",
          "name": "stdout",
          "text": [
            "Looking in indexes: https://pypi.org/simple, https://us-python.pkg.dev/colab-wheels/public/simple/\n",
            "Collecting pyspark\n",
            "  Downloading pyspark-3.3.1.tar.gz (281.4 MB)\n",
            "\u001b[2K     \u001b[90m━━━━━━━━━━━━━━━━━━━━━━━━━━━━━━━━━━━━━━━\u001b[0m \u001b[32m281.4/281.4 MB\u001b[0m \u001b[31m3.7 MB/s\u001b[0m eta \u001b[36m0:00:00\u001b[0m\n",
            "\u001b[?25h  Preparing metadata (setup.py) ... \u001b[?25l\u001b[?25hdone\n",
            "Collecting py4j==0.10.9.5\n",
            "  Downloading py4j-0.10.9.5-py2.py3-none-any.whl (199 kB)\n",
            "\u001b[2K     \u001b[90m━━━━━━━━━━━━━━━━━━━━━━━━━━━━━━━━━━━━━━\u001b[0m \u001b[32m199.7/199.7 KB\u001b[0m \u001b[31m18.2 MB/s\u001b[0m eta \u001b[36m0:00:00\u001b[0m\n",
            "\u001b[?25hBuilding wheels for collected packages: pyspark\n",
            "  Building wheel for pyspark (setup.py) ... \u001b[?25l\u001b[?25hdone\n",
            "  Created wheel for pyspark: filename=pyspark-3.3.1-py2.py3-none-any.whl size=281845512 sha256=52220763630deb7637fb8d189e282855997b68eb9394deb8c98237d907637aad\n",
            "  Stored in directory: /root/.cache/pip/wheels/43/dc/11/ec201cd671da62fa9c5cc77078235e40722170ceba231d7598\n",
            "Successfully built pyspark\n",
            "Installing collected packages: py4j, pyspark\n",
            "Successfully installed py4j-0.10.9.5 pyspark-3.3.1\n"
          ]
        }
      ]
    },
    {
      "cell_type": "markdown",
      "source": [
        "Let's declare the pyspark libraries we need for our development"
      ],
      "metadata": {
        "id": "dEpJzmxYV1KM"
      }
    },
    {
      "cell_type": "code",
      "source": [
        "# Import SparkSession\n",
        "from pyspark.sql import SparkSession\n",
        "# Import SparkSession\n",
        "from pyspark.sql.types import StructType,StructField, StringType, IntegerType,BooleanType,DoubleType\n",
        "#GroupBy on multiple columns\n",
        "import pyspark.sql.functions as func \n",
        "from pyspark.sql.window import Window\n",
        "from pyspark.sql.functions import col, row_number, rank\n",
        "\n"
      ],
      "metadata": {
        "id": "_TsyCvataA0E"
      },
      "execution_count": 27,
      "outputs": []
    },
    {
      "cell_type": "markdown",
      "source": [
        "In order to make use of PySpark, first we need to create a Spark Session "
      ],
      "metadata": {
        "id": "XDu0D3FhV7TC"
      }
    },
    {
      "cell_type": "code",
      "source": [
        "%%time\n",
        "# Create SparkSession \n",
        "spark = SparkSession.builder \\\n",
        "      .master(\"local[1]\") \\\n",
        "      .appName(\"OpenTargetsApplication\") \\\n",
        "      .getOrCreate() \n",
        "      \n",
        "df = spark.read.json(file_list)\n",
        "df.show() "
      ],
      "metadata": {
        "colab": {
          "base_uri": "https://localhost:8080/"
        },
        "id": "yxZbjoVNelEo",
        "outputId": "10c068aa-52c0-40d0-87d2-726e6a7c3bb9"
      },
      "execution_count": 19,
      "outputs": [
        {
          "output_type": "stream",
          "name": "stdout",
          "text": [
            "+-------------------+--------------------+---------------------+--------------------+--------------------+------------+-------------------+--------------------+-------------------+-------------------------+---------------+--------------------+--------------------+-----+------------+------------------+---------------+------------------------------+----------------+------------+\n",
            "|      alleleOrigins| allelicRequirements|clinicalSignificances|    cohortPhenotypes|          confidence|datasourceId|         datatypeId|   diseaseFromSource|diseaseFromSourceId|diseaseFromSourceMappedId|      diseaseId|                  id|          literature|score|     studyId|targetFromSourceId|       targetId|variantFunctionalConsequenceId|       variantId| variantRsId|\n",
            "+-------------------+--------------------+---------------------+--------------------+--------------------+------------+-------------------+--------------------+-------------------+-------------------------+---------------+--------------------+--------------------+-----+------------+------------------+---------------+------------------------------+----------------+------------+\n",
            "|         [germline]|                null| [uncertain signif...|[Deafness, autoso...|criteria provided...|         eva|genetic_association|Deafness, autosom...|           C1414017|              EFO_0001063|    EFO_0001063|000077b7a45815d3b...|                null| 0.32|RCV000383019|   ENSG00000215203|ENSG00000215203|                    SO_0001583|  4_42963058_A_T| rs886059417|\n",
            "|        [inherited]|                null| [uncertain signif...|[METHYLMALONIC AC...|criteria provided...|         eva|genetic_association|Methylmalonic aci...|           C1848552|           Orphanet_79283| Orphanet_79283|000f04305a8afd782...|                null| 0.32|RCV000661940|   ENSG00000168288|ENSG00000168288|                    SO_0001583| 2_149575713_T_C|rs1553453961|\n",
            "|[de novo, germline]|[Autosomal domina...| [likely pathogeni...|[MACROCEPHALY, AC...|criteria provided...|         eva|genetic_association|Macrocephaly, acq...|           C4748993|          Orphanet_397612|Orphanet_397612|00103d765b68b71da...|          [30388402]| 0.95|RCV000754571|   ENSG00000147862|ENSG00000147862|                    SO_0001587|  9_14307286_G_A| rs764333096|\n",
            "|               null|                null|             [benign]|[Greig cephalopol...|criteria provided...|         eva|genetic_association|Greig cephalopoly...|           C0265306|             Orphanet_380|   Orphanet_380|001b5e0dd2193c7cd...|                null| 0.02|RCV000329369|   ENSG00000106571|ENSG00000106571|                    SO_0001624|  7_41963243_T_A|  rs76023240|\n",
            "|         [germline]|                null|      [likely benign]|[AMAUROSIS CONGEN...|criteria provided...|         eva|genetic_association|Leber congenital ...|           C1859844|              Orphanet_65|    Orphanet_65|0028a787d8913f7f5...|                null| 0.02|RCV001444390|   ENSG00000116745|ENSG00000116745|                    SO_0001819|  1_68431069_A_G|        null|\n",
            "|         [germline]|                null|      [likely benign]|[CAROTID BODY TUM...|criteria provided...|         eva|genetic_association|    Pheochromocytoma|           C0031511|              EFO_0000239|    EFO_0000239|0029d240979a4f917...|                null| 0.02|RCV001473271|   ENSG00000117118|ENSG00000117118|                    SO_0001819|  1_17053957_G_C|rs1557749647|\n",
            "|         [germline]|                null| [uncertain signif...|[HUPRA SYNDROME, ...|criteria provided...|         eva|genetic_association|Hyperuricemia, pu...|           C3151209|          Orphanet_363694|Orphanet_363694|00310302032d10f03...|                null| 0.32|RCV001130248|   ENSG00000269547|ENSG00000269547|                    SO_0001630| 19_38919758_A_G|        null|\n",
            "|         [germline]|                null| [uncertain signif...|[Diaphragmatic he...|criteria provided...|         eva|genetic_association|Donnai-Barrow syn...|           C1857277|            Orphanet_2143|  Orphanet_2143|003d0a95a349a5680...|                null| 0.32|RCV000333011|   ENSG00000081479|ENSG00000081479|                    SO_0001583| 2_169201835_C_A| rs755330496|\n",
            "|         [germline]|                null|             [benign]|[Degenerative dis...|criteria provided...|         eva|genetic_association|Macular degeneration|           C0024437|              EFO_0001365|    EFO_0001365|004b5405fd71fd5c0...|                null| 0.02|RCV000279963|   ENSG00000225830|ENSG00000225830|                    SO_0001623| 10_49539025_C_A|   rs4253005|\n",
            "|         [germline]|                null| [uncertain signif...|[Alpha-L-Iduronid...|criteria provided...|         eva|genetic_association|Mucopolysaccharid...|           C0023786|             Orphanet_579|   Orphanet_579|0051695cd291c689a...|                null| 0.32|RCV001156295|   ENSG00000127415|ENSG00000127415|                    SO_0001583|    4_987849_A_T| rs370442463|\n",
            "|         [germline]|                null|      [likely benign]|[Cancer predispos...|criteria provided...|         eva|genetic_association|Hereditary cancer...|           C0027672|          Orphanet_140162|Orphanet_140162|005b774cbc2386b24...|                null| 0.02|RCV001015042|   ENSG00000100697|ENSG00000100697|                    SO_0001819| 14_95108468_A_G|rs1321786215|\n",
            "|         [germline]|                null|         [pathogenic]|[Autosomal domina...|no assertion crit...|         eva|genetic_association|Autosomal dominan...|           C1843330|            Orphanet_2783|  Orphanet_2783|00675233bd118129c...|[11741193, 120153...|  0.9|RCV000006659|   ENSG00000162337|ENSG00000162337|                    SO_0001583| 11_68357672_G_C| rs121908669|\n",
            "|         [germline]|                null|      [likely benign]|[Haddad syndrome,...|criteria provided...|         eva|genetic_association|     Haddad syndrome|           C1859049|           Orphanet_99803| Orphanet_99803|006b73f452b46ccde...|                null| 0.02|RCV001471342|   ENSG00000109132|ENSG00000109132|                    SO_0001819|  4_41745954_A_C|        null|\n",
            "|               null|                null| [uncertain signif...|  [Long QT syndrome]|criteria provided...|         eva|genetic_association|    Long QT syndrome|           C0023976|               HP_0001657|     HP_0001657|00992c7eda0ff4479...|                null| 0.32|RCV000226828|   ENSG00000151067|ENSG00000151067|                    SO_0001583|  12_2686216_G_C| rs374528680|\n",
            "|         [germline]|                null|      [likely benign]|[SCID, AUTOSOMAL ...|criteria provided...|         eva|genetic_association|Severe combined i...|           C1837028|           Orphanet_35078| Orphanet_35078|00a2f6f1de9f103e7...|                null| 0.02|RCV001500113|   ENSG00000081237|ENSG00000081237|                    SO_0001819| 1_198731681_G_A| rs188500261|\n",
            "|         [germline]|                null|             [benign]|[HypoPP, Hypokale...|criteria provided...|         eva|genetic_association|Hypokalemic perio...|           C3714580|             Orphanet_681|   Orphanet_681|00a89f7dded31b325...|                null| 0.02|RCV000343319|   ENSG00000081248|ENSG00000081248|                    SO_0001819| 1_201069508_C_T| rs141619541|\n",
            "|         [germline]|                null| [uncertain signif...|[Bethlem myopathy...|criteria provided...|         eva|genetic_association|Ullrich congenita...|           C4225314|           Orphanet_75840| Orphanet_75840|00b7b1c195c29ba3b...|                null| 0.32|RCV000534733|   ENSG00000111799|ENSG00000111799|                    SO_0001583|  6_75119174_G_A| rs141593495|\n",
            "|         [germline]|                null|         [pathogenic]|[DEVELOPMENTAL AN...|criteria provided...|         eva|genetic_association|Epileptic encepha...|           C4479313|            Orphanet_1934|  Orphanet_1934|00bafa9b2cfccf879...|                null| 0.92|RCV001051902|   ENSG00000159082|ENSG00000159082|                    SO_0001589|21_32646513_TG_T|        null|\n",
            "|               null|                null|         [pathogenic]|[Hereditary breas...|criteria provided...|         eva|genetic_association|Hereditary breast...|           C0677776|             Orphanet_145|   Orphanet_145|00c5e1c72889f8ffb...|                null| 0.92|RCV001216261|   ENSG00000012048|ENSG00000012048|                    SO_0001589|17_43076584_TA_T| rs397507229|\n",
            "|         [germline]|                null| [uncertain signif...|[C2 deficiency, C...|criteria provided...|         eva|genetic_association|Complement compon...|           C3150275|          Orphanet_101992|Orphanet_101992|00ca172b522be70f3...|                null| 0.32|RCV001152916|   ENSG00000166278|ENSG00000166278|                    SO_0001624|  6_31945643_T_C|        null|\n",
            "+-------------------+--------------------+---------------------+--------------------+--------------------+------------+-------------------+--------------------+-------------------+-------------------------+---------------+--------------------+--------------------+-----+------------+------------------+---------------+------------------------------+----------------+------------+\n",
            "only showing top 20 rows\n",
            "\n",
            "CPU times: user 131 ms, sys: 20 ms, total: 151 ms\n",
            "Wall time: 17.5 s\n"
          ]
        }
      ]
    },
    {
      "cell_type": "markdown",
      "source": [
        "Create a schema object by specifiyng the fields which we need from the evidence files."
      ],
      "metadata": {
        "id": "chtz_rpQWIVT"
      }
    },
    {
      "cell_type": "code",
      "source": [
        "%%time\n",
        "schema = StructType([\n",
        "      StructField(\"targetId\",StringType(),False),\n",
        "      StructField(\"diseaseId\",StringType(),False),\n",
        "      StructField(\"score\",DoubleType(),False),\n",
        "])\n",
        "\n",
        "df_evidence_original = spark.read.schema(schema) \\\n",
        "        .json(file_list)\n",
        "df_evidence_original.printSchema()\n",
        "df_evidence_original.show()\n",
        "\n"
      ],
      "metadata": {
        "colab": {
          "base_uri": "https://localhost:8080/"
        },
        "id": "vaJ5M6Ugib6i",
        "outputId": "84b5a173-5406-421c-ae86-5ed56a3434ef"
      },
      "execution_count": 64,
      "outputs": [
        {
          "output_type": "stream",
          "name": "stdout",
          "text": [
            "root\n",
            " |-- targetId: string (nullable = true)\n",
            " |-- diseaseId: string (nullable = true)\n",
            " |-- score: double (nullable = true)\n",
            "\n",
            "+---------------+---------------+-----+\n",
            "|       targetId|      diseaseId|score|\n",
            "+---------------+---------------+-----+\n",
            "|ENSG00000215203|    EFO_0001063| 0.32|\n",
            "|ENSG00000168288| Orphanet_79283| 0.32|\n",
            "|ENSG00000147862|Orphanet_397612| 0.95|\n",
            "|ENSG00000106571|   Orphanet_380| 0.02|\n",
            "|ENSG00000116745|    Orphanet_65| 0.02|\n",
            "|ENSG00000117118|    EFO_0000239| 0.02|\n",
            "|ENSG00000269547|Orphanet_363694| 0.32|\n",
            "|ENSG00000081479|  Orphanet_2143| 0.32|\n",
            "|ENSG00000225830|    EFO_0001365| 0.02|\n",
            "|ENSG00000127415|   Orphanet_579| 0.32|\n",
            "|ENSG00000100697|Orphanet_140162| 0.02|\n",
            "|ENSG00000162337|  Orphanet_2783|  0.9|\n",
            "|ENSG00000109132| Orphanet_99803| 0.02|\n",
            "|ENSG00000151067|     HP_0001657| 0.32|\n",
            "|ENSG00000081237| Orphanet_35078| 0.02|\n",
            "|ENSG00000081248|   Orphanet_681| 0.02|\n",
            "|ENSG00000111799| Orphanet_75840| 0.32|\n",
            "|ENSG00000159082|  Orphanet_1934| 0.92|\n",
            "|ENSG00000012048|   Orphanet_145| 0.92|\n",
            "|ENSG00000166278|Orphanet_101992| 0.32|\n",
            "+---------------+---------------+-----+\n",
            "only showing top 20 rows\n",
            "\n",
            "CPU times: user 44.5 ms, sys: 5.93 ms, total: 50.5 ms\n",
            "Wall time: 2.61 s\n"
          ]
        }
      ]
    },
    {
      "cell_type": "markdown",
      "source": [
        "We proceed to get the median based on targetId and diseaseId fields"
      ],
      "metadata": {
        "id": "ydf4A2swWZ_t"
      }
    },
    {
      "cell_type": "code",
      "source": [
        "%%time\n",
        "df_evidence_median = df_evidence_original.groupBy(\"targetId\",\"diseaseId\") \\\n",
        ".agg(func.percentile_approx(\"score\", 0.5) \\\n",
        ".alias(\"median\"))"
      ],
      "metadata": {
        "colab": {
          "base_uri": "https://localhost:8080/"
        },
        "id": "ru0pdATUkq7T",
        "outputId": "6e405295-9fe5-4c95-ffcd-d755dfb82d68"
      },
      "execution_count": 71,
      "outputs": [
        {
          "output_type": "stream",
          "name": "stdout",
          "text": [
            "CPU times: user 7.45 ms, sys: 0 ns, total: 7.45 ms\n",
            "Wall time: 45.8 ms\n"
          ]
        }
      ]
    },
    {
      "cell_type": "code",
      "source": [
        "df_evidence_median.show()\n"
      ],
      "metadata": {
        "colab": {
          "base_uri": "https://localhost:8080/"
        },
        "id": "OwswJ9Y-4XVN",
        "outputId": "31bf2f39-1dc3-43ae-acbf-b2eefd436859"
      },
      "execution_count": 72,
      "outputs": [
        {
          "output_type": "stream",
          "name": "stdout",
          "text": [
            "+---------------+---------------+------+\n",
            "|       targetId|      diseaseId|median|\n",
            "+---------------+---------------+------+\n",
            "|ENSG00000000419|    EFO_0003847|   0.0|\n",
            "|ENSG00000000419|     HP_0001249|   0.0|\n",
            "|ENSG00000000419|   Orphanet_137|  0.32|\n",
            "|ENSG00000000971|    EFO_0001365|  0.32|\n",
            "|ENSG00000000971|    EFO_0003884|  0.72|\n",
            "|ENSG00000000971|    EFO_1001155|  0.32|\n",
            "|ENSG00000000971|Orphanet_200421|  0.32|\n",
            "|ENSG00000000971|  Orphanet_2134|   0.3|\n",
            "|ENSG00000000971|Orphanet_329918|  0.32|\n",
            "|ENSG00000000971| Orphanet_54370|  0.32|\n",
            "|ENSG00000000971| Orphanet_93571|  0.32|\n",
            "|ENSG00000000971| Orphanet_93579|  0.32|\n",
            "|ENSG00000001036|    EFO_0004207|   0.3|\n",
            "|ENSG00000001084| Orphanet_33574|  0.32|\n",
            "|ENSG00000001461|    EFO_0010642|  0.32|\n",
            "|ENSG00000001497|    EFO_0000508|  0.32|\n",
            "|ENSG00000001497|    EFO_0003847|   0.0|\n",
            "|ENSG00000001497|    EFO_0010642|  0.32|\n",
            "|ENSG00000001497|     HP_0001249|   0.0|\n",
            "|ENSG00000001497|     HP_0001263|   0.7|\n",
            "+---------------+---------------+------+\n",
            "only showing top 20 rows\n",
            "\n"
          ]
        }
      ]
    },
    {
      "cell_type": "markdown",
      "source": [
        "Let's create an extra field named \"rank\" which contains the position of the score based on targetId and diseaseId. Then, we select the top 3"
      ],
      "metadata": {
        "id": "HRoGomz7Wktf"
      }
    },
    {
      "cell_type": "code",
      "source": [
        "%%time\n",
        "window = Window.partitionBy(\"targetId\", \"diseaseId\")\\\n",
        ".orderBy(df_evidence_original['score'].desc())\n",
        "## select top 3\n",
        "df_evidence_rank = df_evidence_original.select('*', rank().over(window).alias('rank'))\\\n",
        ".filter(col('rank') <= 3)"
      ],
      "metadata": {
        "colab": {
          "base_uri": "https://localhost:8080/"
        },
        "id": "doiLukRMtpcb",
        "outputId": "bf36c884-e5c0-4711-a279-ee3a9e08a0b9"
      },
      "execution_count": 66,
      "outputs": [
        {
          "output_type": "stream",
          "name": "stdout",
          "text": [
            "CPU times: user 7.47 ms, sys: 1.6 ms, total: 9.06 ms\n",
            "Wall time: 54.4 ms\n"
          ]
        }
      ]
    },
    {
      "cell_type": "markdown",
      "source": [
        "After creating the rank column, we can create three new columns to allocate each score (top_1, top_2, top_3)"
      ],
      "metadata": {
        "id": "x68J-AyZWyOU"
      }
    },
    {
      "cell_type": "code",
      "source": [
        "import pyspark.sql.functions as f\n",
        "\n",
        "df_evidence_rank = df_evidence_rank.filter(df_evidence_rank.rank <= 3)\\\n",
        "   .withColumn('col', f.expr('concat(rank, \"_top\")'))\\\n",
        "   .groupby('targetId', 'diseaseId' )\\\n",
        "   .pivot('col')\\\n",
        "   .agg(f.first(df_evidence_rank.score))"
      ],
      "metadata": {
        "id": "GVBWLfejBEeZ"
      },
      "execution_count": 69,
      "outputs": []
    },
    {
      "cell_type": "markdown",
      "source": [
        "We can proceed to join the top score columns with the median "
      ],
      "metadata": {
        "id": "9BdfpowMXARw"
      }
    },
    {
      "cell_type": "code",
      "source": [
        "%%time\n",
        "df_evidence_rank = df_evidence_rank.join(df_evidence_median, ['targetId', 'diseaseId'])"
      ],
      "metadata": {
        "colab": {
          "base_uri": "https://localhost:8080/"
        },
        "id": "LH0tXwTE95kf",
        "outputId": "115be540-e05b-4458-b490-14b380dabc46"
      },
      "execution_count": 73,
      "outputs": [
        {
          "output_type": "stream",
          "name": "stdout",
          "text": [
            "CPU times: user 2.33 ms, sys: 716 µs, total: 3.04 ms\n",
            "Wall time: 34.1 ms\n"
          ]
        }
      ]
    },
    {
      "cell_type": "code",
      "source": [
        "df_evidence_rank.show()"
      ],
      "metadata": {
        "colab": {
          "base_uri": "https://localhost:8080/"
        },
        "id": "FmSw1FHmCZ6g",
        "outputId": "904a9b55-03c1-4330-abe2-0c43481a2e54"
      },
      "execution_count": 74,
      "outputs": [
        {
          "output_type": "stream",
          "name": "stdout",
          "text": [
            "+---------------+---------------+-----+-----+-----+------+\n",
            "|       targetId|      diseaseId|1_top|2_top|3_top|median|\n",
            "+---------------+---------------+-----+-----+-----+------+\n",
            "|ENSG00000000419|    EFO_0003847|  0.0| null| null|   0.0|\n",
            "|ENSG00000000419|     HP_0001249|  0.0| null| null|   0.0|\n",
            "|ENSG00000000419|   Orphanet_137| 0.95| 0.92| null|  0.32|\n",
            "|ENSG00000000971|    EFO_0001365| 0.92| null|  0.5|  0.32|\n",
            "|ENSG00000000971|    EFO_0003884| 0.72| null| null|  0.72|\n",
            "|ENSG00000000971|    EFO_1001155| 0.92|  0.9| null|  0.32|\n",
            "|ENSG00000000971|Orphanet_200421| 0.92| null|  0.9|  0.32|\n",
            "|ENSG00000000971|  Orphanet_2134| 0.92| null| null|   0.3|\n",
            "|ENSG00000000971|Orphanet_329918| 0.92| null|  0.9|  0.32|\n",
            "|ENSG00000000971| Orphanet_54370| 0.92| null|  0.9|  0.32|\n",
            "|ENSG00000000971| Orphanet_93571| 0.92| null|  0.9|  0.32|\n",
            "|ENSG00000000971| Orphanet_93579| 0.92| null|  0.9|  0.32|\n",
            "|ENSG00000001036|    EFO_0004207|  0.3| null| null|   0.3|\n",
            "|ENSG00000001084| Orphanet_33574|  0.9| 0.32| null|  0.32|\n",
            "|ENSG00000001461|    EFO_0010642| 0.32| null| null|  0.32|\n",
            "|ENSG00000001497|    EFO_0000508| 0.72| 0.32| null|  0.32|\n",
            "|ENSG00000001497|    EFO_0003847|  0.0| null| null|   0.0|\n",
            "|ENSG00000001497|    EFO_0010642| 0.32| null| null|  0.32|\n",
            "|ENSG00000001497|     HP_0001249|  0.0| null| null|   0.0|\n",
            "|ENSG00000001497|     HP_0001263|  0.7| null| null|   0.7|\n",
            "+---------------+---------------+-----+-----+-----+------+\n",
            "only showing top 20 rows\n",
            "\n"
          ]
        }
      ]
    },
    {
      "cell_type": "markdown",
      "source": [
        "A sample JSON object of each row"
      ],
      "metadata": {
        "id": "AiiF14v9Y7ce"
      }
    },
    {
      "cell_type": "code",
      "source": [
        "df_evidence_rank.toJSON().first()\n"
      ],
      "metadata": {
        "colab": {
          "base_uri": "https://localhost:8080/",
          "height": 35
        },
        "id": "nMx9MMT2985x",
        "outputId": "24e4bd96-0aee-4ae0-cbfc-7a8fc34da88a"
      },
      "execution_count": 75,
      "outputs": [
        {
          "output_type": "execute_result",
          "data": {
            "text/plain": [
              "'{\"targetId\":\"ENSG00000000419\",\"diseaseId\":\"EFO_0003847\",\"1_top\":0.0,\"median\":0.0}'"
            ],
            "application/vnd.google.colaboratory.intrinsic+json": {
              "type": "string"
            }
          },
          "metadata": {},
          "execution_count": 75
        }
      ]
    },
    {
      "cell_type": "markdown",
      "source": [
        "Let's create a target dataframe based on the target files"
      ],
      "metadata": {
        "id": "I4V65dckXSg2"
      }
    },
    {
      "cell_type": "code",
      "source": [
        "%%time\n",
        "df_target = spark.read.json(file_list_target)\n",
        "df_target.show() "
      ],
      "metadata": {
        "colab": {
          "base_uri": "https://localhost:8080/"
        },
        "id": "NQNJMxKIxEKG",
        "outputId": "82f1f609-9970-483f-8da9-5bb74c3c231b"
      },
      "execution_count": 76,
      "outputs": [
        {
          "output_type": "stream",
          "name": "stdout",
          "text": [
            "+-----------------+--------------------+--------------+--------------+--------------------+--------------------+--------------------+--------------------+--------------------+--------------------+---------+--------------------+---------------+--------------------+--------------------+--------------------+--------------------+--------------------+-----------------+--------------------+--------------------+--------------------+--------------------+----+--------------------+--------------------+\n",
            "| alternativeGenes|        approvedName|approvedSymbol|       biotype|      chemicalProbes|          constraint|             dbXrefs|functionDescriptions|     genomicLocation|                  go|hallmarks|          homologues|             id|        nameSynonyms|       obsoleteNames|     obsoleteSymbols|            pathways|          proteinIds|safetyLiabilities|subcellularLocations|      symbolSynonyms|            synonyms|         targetClass| tep|        tractability|       transcriptIds|\n",
            "+-----------------+--------------------+--------------+--------------+--------------------+--------------------+--------------------+--------------------+--------------------+--------------------+---------+--------------------+---------------+--------------------+--------------------+--------------------+--------------------+--------------------+-----------------+--------------------+--------------------+--------------------+--------------------+----+--------------------+--------------------+\n",
            "|             null|solute carrier fa...|      SLC22A16|protein_coding|                null|[{syn, 126.27, 13...|[{20302, HGNC}, {...|[High affinity ca...|{6, 110476641, 11...|[{F, ECO:0000314,...|     null|[{other_paralog, ...|ENSG00000004809|[{Solute carrier ...|[{solute carrier ...|                  []|[{Organic cation ...|[{Q86VW1, uniprot...|             null|[{Cellular compon...|[{SLC22A16, unipr...|[{Solute carrier ...|[{710, SLC superf...|null|[{Approved Drug, ...|[ENST00000461487,...|\n",
            "|             null|megakaryocyte-ass...|          MATK|protein_coding|                null|[{syn, 154.29, 15...|[{6906, HGNC}, {1...|[Could play a sig...|{19, 3802129, 377...|[{F, ECO:0000353,...|     null|[{other_paralog, ...|ENSG00000007264|[{Megakaryocyte-a...|                  []|                  []|[{Downregulation ...|[{P42679, uniprot...|             null|[{Cellular compon...|[{MATK, uniprot},...|[{Megakaryocyte-a...|[{134, Protein Ki...|null|[{Approved Drug, ...|[ENST00000395040,...|\n",
            "|             null|    lactotransferrin|           LTF|protein_coding|                null|[{syn, 173.69, 18...|[{6720, HGNC}, {1...|[Transferrins are...|{3, 46485234, 464...|[{P, ECO:0000314,...|     null|[{ortholog_one2on...|ENSG00000012223|[{Lactotransferri...|                  []|                  []|[{Neutrophil degr...|[{P02788, uniprot...|             null|[{Cellular compon...|[{LTF, uniprot}, ...|[{Lactotransferri...|[{646, Enzyme, l1...|null|[{Approved Drug, ...|[ENST00000426532,...|\n",
            "|[ENSG00000275565]|arachidonate 5-li...|         ALOX5|protein_coding|[{null, null, PD1...|[{syn, 180.08, 18...|[{435, HGNC}, {2A...|[Catalyzes the ox...|{10, 45446119, 45...|[{F, ECO:0000304,...|     null|[{ortholog_one2on...|ENSG00000012779|[{Polyunsaturated...|                  []|                  []|[{Biosynthesis of...|[{P09917, uniprot...|             null|[{Cellular compon...|[{ALOX5, uniprot}...|[{Polyunsaturated...|[{10, Enzyme, l1}...|null|[{Approved Drug, ...|[ENST00000612635,...|\n",
            "|             null|JNK1/MAPK8 associ...|         JKAMP|protein_coding|                null|[{syn, 60.299, 55...|[{20184, HGNC}, {...|[May be a regulat...|{14, 59505410, 59...|[{P, ECO:0007669,...|     null|[{ortholog_one2on...|ENSG00000050130|[{JNK1/MAPK8-asso...|[{chromosome 14 o...| [{C14orf100, HGNC}]|                null|[{Q9P055, uniprot...|             null|[{Cellular compon...|[{JKAMP, uniprot}...|[{JNK1/MAPK8-asso...|                null|null|[{Approved Drug, ...|[ENST00000356057,...|\n",
            "|             null|protocadherin beta 4|        PCDHB4|protein_coding|                null|[{syn, 214.35, 26...|[{8689, HGNC}, {I...|[Potential calciu...|{5, 141125623, 14...|[{F, ECO:0000256,...|     null|[{other_paralog, ...|ENSG00000081818|[{Protocadherin b...|                  []|                  []|                null|[{Q9Y5E5, uniprot...|             null|[{Cellular compon...|[{PCDHB4, uniprot...|[{Protocadherin b...|                null|null|[{Approved Drug, ...|[ENST00000194152,...|\n",
            "|             null|protein phosphata...|         PPEF1|protein_coding|                null|[{syn, 90.234, 82...|[{9243, HGNC}, {R...|[May have a role ...|{X, 18827921, 186...|[{C, ECO:0000318,...|     null|[{ortholog_one2on...|ENSG00000086717|[{Serine/threonin...|[{protein phospha...|      [{PPEF, HGNC}]|[{Inactivation, r...|[{O14829, uniprot...|             null|[{Cell membrane, ...|[{PPEF1, uniprot}...|[{Serine/threonin...|                null|null|[{Approved Drug, ...|[ENST00000486029,...|\n",
            "|             null|transmembrane ser...|     TMPRSS11E|protein_coding|                null|[{syn, 78.214, 80...|[{24465, HGNC}, {...|[Serine protease ...|{4, 68497604, 684...|[{C, ECO:0000250,...|     null|[{other_paralog, ...|ENSG00000087128|[{Transmembrane p...|[{transmembrane p...|[{TMPRSS11E2, HGNC}]|                null|[{Q9UL52, uniprot...|             null|[{Cellular compon...|[{TMPRSS11E, unip...|[{Transmembrane p...|                null|null|[{Approved Drug, ...|[ENST00000305363,...|\n",
            "|             null|phosphoribosyl tr...|       PRTFDC1|protein_coding|                null|[{syn, 48.304, 48...|[{23333, HGNC}, {...|[Has low, barely ...|{10, 24952606, 24...|[{P, ECO:0000256,...|     null|[{other_paralog, ...|ENSG00000099256|[{Phosphoribosylt...|                  []|                  []|                null|[{Q9NRG1, uniprot...|             null|[{Nucleoplasm, Nu...|[{PRTFDC1, unipro...|[{Phosphoribosylt...|                null|null|[{Approved Drug, ...|[ENST00000376378,...|\n",
            "|             null|  crystallin beta B1|        CRYBB1|protein_coding|                null|[{syn, 68.236, 69...|[{2397, HGNC}, {1...|[Crystallins are ...|{22, 26618027, 26...|[{F, ECO:0000353,...|     null|[{other_paralog, ...|ENSG00000100122|[{Beta-crystallin...|[{crystallin, bet...|                  []|                null|[{P53674, uniprot...|             null|                  []|[{CRYBB1, uniprot...|[{Beta-crystallin...|                null|null|[{Approved Drug, ...|[ENST00000647684,...|\n",
            "|             null|mannosidase beta ...|        MANBAL|protein_coding|                null|[{syn, 22.769, 26...|[{15799, HGNC}, {...|                  []|{20, 37317260, 37...|[{C, ECO:0007669,...|     null|[{ortholog_one2on...|ENSG00000101363|[{Protein MANBAL,...|[{mannosidase, be...|                  []|                null|[{Q9NQG1, uniprot...|             null|[{Cellular compon...|[{MANBAL, uniprot...|[{Protein MANBAL,...|                null|null|[{Approved Drug, ...|[ENST00000373606,...|\n",
            "|             null|vestigial like fa...|         VGLL1|protein_coding|                null|[{syn, 42.11, 47,...|[{20985, HGNC}, {...|[May act as a spe...|{X, 136556807, 13...|[{P, ECO:0000364,...|     null|[{ortholog_one2on...|ENSG00000102243|[{Transcription c...|[{vestigial like ...|                  []|                null|[{Q99990, uniprot...|             null|[{Cellular compon...|[{VGLL1, uniprot}...|[{Transcription c...|                null|null|[{Approved Drug, ...|[ENST00000440515,...|\n",
            "|             null|epithelial splici...|         ESRP2|protein_coding|                null|[{syn, 189.99, 16...|[{26152, HGNC}, {...|[mRNA splicing fa...|{16, 68238102, 68...|[{C, ECO:0000318,...|     null|[{other_paralog, ...|ENSG00000103067|[{Epithelial spli...|[{RNA binding mot...|    [{RBM35B, HGNC}]|[{FGFR2 alternati...|[{Q9H6T0, uniprot...|             null|[{Cellular compon...|[{ESRP2, uniprot}...|[{Epithelial spli...|                null|null|[{Approved Drug, ...|[ENST00000473183,...|\n",
            "|             null|carbonic anhydrase 2|           CA2|protein_coding|[{null, null, PD0...|[{syn, 53.019, 49...|[{1373, HGNC}, {1...|[Essential for bo...|{8, 85481493, 854...|[{P, ECO:0000318,...|     null|[{other_paralog, ...|ENSG00000104267|[{Carbonic anhydr...|[{carbonic anhydr...|                  []|[{Erythrocytes ta...|[{P00918, uniprot...|             null|[{Cellular compon...|[{CA2, uniprot}, ...|[{Carbonic anhydr...|[{648, Enzyme, l1...|null|[{Approved Drug, ...|[ENST00000285379,...|\n",
            "|             null|glutaryl-CoA dehy...|          GCDH|protein_coding|                null|[{syn, 116.02, 11...|[{4189, HGNC}, {1...|[Catalyzes the ox...|{19, 12914207, 12...|[{P, ECO:0000318,...|     null|[{other_paralog, ...|ENSG00000105607|[{Glutaryl-CoA de...|[{glutaryl-Coenzy...|                  []|[{Lysine cataboli...|[{Q92947, uniprot...|             null|[{Cellular compon...|[{GCDH, uniprot},...|[{Glutaryl-CoA de...|[{10, Enzyme, l1}...|null|[{Approved Drug, ...|[ENST00000421816,...|\n",
            "|             null|H2A.Z variant his...|         H2AZ2|protein_coding|                null|[{syn, 26.528, 19...|[{20664, HGNC}, {...|[Variant histone ...|{7, 44848087, 448...|[{C, ECO:0000353,...|     null|[{other_paralog, ...|ENSG00000105968|[{Histone H2A.V, ...|[{H2A histone fam...|[{H2AV, HGNC}, {H...|[{DNA Damage/Telo...|[{Q71UI9, uniprot...|             null|[{Cellular compon...|[{H2AZ2, uniprot}...|[{Histone H2A.V, ...|                null|null|[{Approved Drug, ...|[ENST00000308153,...|\n",
            "|             null|TBC1 domain famil...|       TBC1D13|protein_coding|                null|[{syn, 95.66, 89,...|[{25571, HGNC}, {...|[Acts as a GTPase...|{9, 128810430, 12...|[{F, ECO:0000318,...|     null|[{other_paralog, ...|ENSG00000107021|[{TBC1 domain fam...|[{TBC1 domain fam...|                  []|[{TBC/RABGAPs, R-...|[{Q9NVG8, uniprot...|             null|[{Cellular compon...|[{TBC1D13, unipro...|[{TBC1 domain fam...|                null|null|[{Approved Drug, ...|[ENST00000223865,...|\n",
            "|             null|pitrilysin metall...|        PITRM1|protein_coding|                null|[{syn, 248.35, 30...|[{17663, HGNC}, {...|[Metalloendopepti...|{10, 3172841, 313...|[{C, ECO:0000304,...|     null|[{ortholog_one2on...|ENSG00000107959|[{Presequence pro...|[{pitrilysin meta...|                  []|[{Mitochondrial p...|[{Q5JRX3, uniprot...|             null|[{Cellular compon...|[{PITRM1, uniprot...|[{Presequence pro...|   [{1, Enzyme, l1}]|null|[{Approved Drug, ...|[ENST00000678987,...|\n",
            "|             null|lysine methyltran...|         KMT5B|protein_coding|[{null, null, A-1...|[{syn, 185.35, 16...|[{24283, HGNC}, {...|[Histone methyltr...|{11, 68213828, 68...|[{F, ECO:0000304,...|     null|[{other_paralog, ...|ENSG00000110066|[{Histone-lysine ...|[{suppressor of v...|  [{SUV420H1, HGNC}]|[{PKMTs methylate...|[{Q4FZB7, uniprot...|             null|[{Cellular compon...|[{KMT5B, uniprot}...|[{Histone-lysine ...|[{853, Writer, l2...|null|[{Approved Drug, ...|[ENST00000323599,...|\n",
            "|             null|inhibitor of grow...|          ING4|protein_coding|                null|[{syn, 49.842, 42...|[{19423, HGNC}, {...|[Component of HBO...|{12, 6663142, 665...|[{F, ECO:0000353,...|     null|[{other_paralog, ...|ENSG00000111653|[{Inhibitor of gr...|                  []|                  []|[{HATs acetylate ...|[{Q9UNL4, uniprot...|             null|[{Cellular compon...|[{ING4, uniprot},...|[{Inhibitor of gr...|                null|null|[{Approved Drug, ...|[ENST00000488381,...|\n",
            "+-----------------+--------------------+--------------+--------------+--------------------+--------------------+--------------------+--------------------+--------------------+--------------------+---------+--------------------+---------------+--------------------+--------------------+--------------------+--------------------+--------------------+-----------------+--------------------+--------------------+--------------------+--------------------+----+--------------------+--------------------+\n",
            "only showing top 20 rows\n",
            "\n",
            "CPU times: user 156 ms, sys: 23.4 ms, total: 179 ms\n",
            "Wall time: 23.1 s\n"
          ]
        }
      ]
    },
    {
      "cell_type": "markdown",
      "source": [
        "Again, we can declare a schema only for the fields that we need "
      ],
      "metadata": {
        "id": "EsTvKcCzXbJI"
      }
    },
    {
      "cell_type": "code",
      "source": [
        "%%time\n",
        "schema_target = StructType([\n",
        "      StructField(\"id\",StringType(),False),\n",
        "      StructField(\"approvedSymbol\",StringType(),False),\n",
        "      StructField(\"approvedName\",StringType(),False),\n",
        "])\n",
        "\n",
        "df_target = spark.read.schema(schema_target) \\\n",
        "        .json(file_list_target)\n",
        "df_target.printSchema()\n",
        "df_target.show()"
      ],
      "metadata": {
        "colab": {
          "base_uri": "https://localhost:8080/"
        },
        "id": "42_X-k54Zx5b",
        "outputId": "4661199d-60c8-4632-e6c5-4b6caf65fedd"
      },
      "execution_count": 77,
      "outputs": [
        {
          "output_type": "stream",
          "name": "stdout",
          "text": [
            "root\n",
            " |-- id: string (nullable = true)\n",
            " |-- approvedSymbol: string (nullable = true)\n",
            " |-- approvedName: string (nullable = true)\n",
            "\n",
            "+---------------+--------------+--------------------+\n",
            "|             id|approvedSymbol|        approvedName|\n",
            "+---------------+--------------+--------------------+\n",
            "|ENSG00000004809|      SLC22A16|solute carrier fa...|\n",
            "|ENSG00000007264|          MATK|megakaryocyte-ass...|\n",
            "|ENSG00000012223|           LTF|    lactotransferrin|\n",
            "|ENSG00000012779|         ALOX5|arachidonate 5-li...|\n",
            "|ENSG00000050130|         JKAMP|JNK1/MAPK8 associ...|\n",
            "|ENSG00000081818|        PCDHB4|protocadherin beta 4|\n",
            "|ENSG00000086717|         PPEF1|protein phosphata...|\n",
            "|ENSG00000087128|     TMPRSS11E|transmembrane ser...|\n",
            "|ENSG00000099256|       PRTFDC1|phosphoribosyl tr...|\n",
            "|ENSG00000100122|        CRYBB1|  crystallin beta B1|\n",
            "|ENSG00000101363|        MANBAL|mannosidase beta ...|\n",
            "|ENSG00000102243|         VGLL1|vestigial like fa...|\n",
            "|ENSG00000103067|         ESRP2|epithelial splici...|\n",
            "|ENSG00000104267|           CA2|carbonic anhydrase 2|\n",
            "|ENSG00000105607|          GCDH|glutaryl-CoA dehy...|\n",
            "|ENSG00000105968|         H2AZ2|H2A.Z variant his...|\n",
            "|ENSG00000107021|       TBC1D13|TBC1 domain famil...|\n",
            "|ENSG00000107959|        PITRM1|pitrilysin metall...|\n",
            "|ENSG00000110066|         KMT5B|lysine methyltran...|\n",
            "|ENSG00000111653|          ING4|inhibitor of grow...|\n",
            "+---------------+--------------+--------------------+\n",
            "only showing top 20 rows\n",
            "\n",
            "CPU times: user 36.6 ms, sys: 6.54 ms, total: 43.1 ms\n",
            "Wall time: 2.52 s\n"
          ]
        }
      ]
    },
    {
      "cell_type": "markdown",
      "source": [
        "We proceed to join both tables: evidence and target. These tables are joined by using the target"
      ],
      "metadata": {
        "id": "YBe_DkiGXjz3"
      }
    },
    {
      "cell_type": "code",
      "source": [
        "%%time\n",
        "full_df = df_evidence_rank.join(df_target,df_evidence_rank[\"targetId\"] == df_target[\"id\"], how=\"inner\").drop('id')"
      ],
      "metadata": {
        "colab": {
          "base_uri": "https://localhost:8080/"
        },
        "id": "6tGhGPOPzX--",
        "outputId": "89b5dbab-f21c-4db0-fe9e-05e24e7d228d"
      },
      "execution_count": 82,
      "outputs": [
        {
          "output_type": "stream",
          "name": "stdout",
          "text": [
            "CPU times: user 3.29 ms, sys: 0 ns, total: 3.29 ms\n",
            "Wall time: 26.3 ms\n"
          ]
        }
      ]
    },
    {
      "cell_type": "markdown",
      "source": [
        "Finally we can order by the median of these columns"
      ],
      "metadata": {
        "id": "lVkP2oGzXy29"
      }
    },
    {
      "cell_type": "code",
      "source": [
        "full_df = full_df.orderBy(\"median\")\n"
      ],
      "metadata": {
        "id": "agUlEo02EH75"
      },
      "execution_count": 86,
      "outputs": []
    },
    {
      "cell_type": "markdown",
      "source": [
        "This is how it looks our final table with target and evidence fields "
      ],
      "metadata": {
        "id": "d_y-zzTYX75d"
      }
    },
    {
      "cell_type": "code",
      "source": [
        "full_df.show()"
      ],
      "metadata": {
        "colab": {
          "base_uri": "https://localhost:8080/"
        },
        "id": "PtYniW-SFsr7",
        "outputId": "c46a5c69-a44f-46ee-c633-18263529d27d"
      },
      "execution_count": 87,
      "outputs": [
        {
          "output_type": "stream",
          "name": "stdout",
          "text": [
            "+---------------+--------------+-----+-----+-----+------+--------------+--------------------+\n",
            "|       targetId|     diseaseId|1_top|2_top|3_top|median|approvedSymbol|        approvedName|\n",
            "+---------------+--------------+-----+-----+-----+------+--------------+--------------------+\n",
            "|ENSG00000168702|   EFO_0000668|  0.0| null| null|   0.0|         LRP1B|LDL receptor rela...|\n",
            "|ENSG00000111596|   EFO_0002950|  0.0| null| null|   0.0|         CNOT2|CCR4-NOT transcri...|\n",
            "|ENSG00000183696|    HP_0001657|  0.0| null| null|   0.0|          UPP1|uridine phosphory...|\n",
            "|ENSG00000198835|   EFO_0003847| 0.92|  0.0| null|   0.0|          GJC2|gap junction prot...|\n",
            "|ENSG00000111700|   EFO_0005556|  0.0| null| null|   0.0|       SLCO1B3|solute carrier or...|\n",
            "|ENSG00000118407|    HP_0002269|  0.0| null| null|   0.0|        FILIP1|filamin A interac...|\n",
            "|ENSG00000134755|   EFO_0004278|  0.0| null| null|   0.0|          DSC2|       desmocollin 2|\n",
            "|ENSG00000061938|    HP_0002269|  0.0| null| null|   0.0|          TNK2|tyrosine kinase n...|\n",
            "|ENSG00000134755|Orphanet_99739| 0.32| null|  0.0|   0.0|          DSC2|       desmocollin 2|\n",
            "|ENSG00000162771|  Orphanet_570|  0.0| null| null|   0.0|        FAM71A|family with seque...|\n",
            "|ENSG00000144815|    HP_0002269|  0.0| null| null|   0.0|         NXPE3|neurexophilin and...|\n",
            "|ENSG00000144711|    HP_0012759|  0.0| null| null|   0.0|        IQSEC1|IQ motif and Sec7...|\n",
            "|ENSG00000196132|   EFO_0003847| 0.72|  0.0| null|   0.0|          MYT1|myelin transcript...|\n",
            "|ENSG00000162687|    HP_0012758|  0.0| null| null|   0.0|         KCNT2|potassium sodium-...|\n",
            "|ENSG00000196132|    HP_0001249| 0.72|  0.0| null|   0.0|          MYT1|myelin transcript...|\n",
            "|ENSG00000162105|   EFO_0000692|  0.0| null| null|   0.0|        SHANK2|SH3 and multiple ...|\n",
            "|ENSG00000065883|   EFO_0003847| 0.32|  0.0| null|   0.0|         CDK13|cyclin dependent ...|\n",
            "|ENSG00000103642|    HP_0002269|  0.0| null| null|   0.0|         LACTB|      lactamase beta|\n",
            "|ENSG00000065883|    HP_0001249| 0.32|  0.0| null|   0.0|         CDK13|cyclin dependent ...|\n",
            "|ENSG00000122025|   EFO_0000222|  0.0| null| null|   0.0|          FLT3|fms related recep...|\n",
            "+---------------+--------------+-----+-----+-----+------+--------------+--------------------+\n",
            "only showing top 20 rows\n",
            "\n"
          ]
        }
      ]
    },
    {
      "cell_type": "markdown",
      "source": [
        "We proceed to print the json object based on the previous table"
      ],
      "metadata": {
        "id": "861BEHh6ZBNE"
      }
    },
    {
      "cell_type": "code",
      "source": [
        "print(full_df.schema.json())\n"
      ],
      "metadata": {
        "colab": {
          "base_uri": "https://localhost:8080/"
        },
        "id": "JdNBTR_HFPfp",
        "outputId": "dc13020e-c7ed-4dc6-b39e-acbaefac3195"
      },
      "execution_count": 88,
      "outputs": [
        {
          "output_type": "stream",
          "name": "stdout",
          "text": [
            "{\"fields\":[{\"metadata\":{},\"name\":\"targetId\",\"nullable\":true,\"type\":\"string\"},{\"metadata\":{},\"name\":\"diseaseId\",\"nullable\":true,\"type\":\"string\"},{\"metadata\":{},\"name\":\"1_top\",\"nullable\":true,\"type\":\"double\"},{\"metadata\":{},\"name\":\"2_top\",\"nullable\":true,\"type\":\"double\"},{\"metadata\":{},\"name\":\"3_top\",\"nullable\":true,\"type\":\"double\"},{\"metadata\":{},\"name\":\"median\",\"nullable\":true,\"type\":\"double\"},{\"metadata\":{},\"name\":\"approvedSymbol\",\"nullable\":true,\"type\":\"string\"},{\"metadata\":{},\"name\":\"approvedName\",\"nullable\":true,\"type\":\"string\"}],\"type\":\"struct\"}\n"
          ]
        }
      ]
    },
    {
      "cell_type": "markdown",
      "source": [
        "This is for the final part about counting how many target-target pairs share a connection of at least two diseases. In this case, we need to make a inner join with the same table and the proper conditions"
      ],
      "metadata": {
        "id": "BClzdwPXYIAO"
      }
    },
    {
      "cell_type": "code",
      "source": [
        "inner_full_df = full_df.alias(\"df1\").join(full_df.alias(\"df2\"), \n",
        "    (col(\"df1.diseaseId\") == col(\"df2.diseaseId\")) & (col(\"df1.targetId\") != col(\"df2.targetId\")), \"inner\")\\\n",
        ".select(col(\"df1.targetId\").alias(\"t1\"),col(\"df2.targetId\").alias(\"t2\"))\n"
      ],
      "metadata": {
        "id": "jW5xwB2LGX6S"
      },
      "execution_count": 98,
      "outputs": []
    },
    {
      "cell_type": "markdown",
      "source": [
        "We select the shared connections in a new dataframe"
      ],
      "metadata": {
        "id": "sypMNKMuYrXC"
      }
    },
    {
      "cell_type": "code",
      "source": [
        "inner_full_df = inner_full_df.groupBy(\"t1\", \"t2\").count().filter(col(\"count\")>1)"
      ],
      "metadata": {
        "id": "PAg8KDHoK4T-"
      },
      "execution_count": 103,
      "outputs": []
    },
    {
      "cell_type": "markdown",
      "source": [
        "Finally, we get the total of target-target pairs with a shared connection of at least 2 diseases."
      ],
      "metadata": {
        "id": "sQUSammIYvls"
      }
    },
    {
      "cell_type": "code",
      "source": [
        "inner_full_df.count()"
      ],
      "metadata": {
        "colab": {
          "base_uri": "https://localhost:8080/"
        },
        "id": "osT9Kka-RfZM",
        "outputId": "ee53161d-d21b-456a-b725-690dd00e0272"
      },
      "execution_count": 104,
      "outputs": [
        {
          "output_type": "execute_result",
          "data": {
            "text/plain": [
              "700828"
            ]
          },
          "metadata": {},
          "execution_count": 104
        }
      ]
    }
  ]
}